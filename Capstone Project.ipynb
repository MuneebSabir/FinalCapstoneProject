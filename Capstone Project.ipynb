{
 "cells": [
  {
   "cell_type": "markdown",
   "metadata": {},
   "source": [
    "# <center>Capstone Project</center>"
   ]
  },
  {
   "cell_type": "markdown",
   "metadata": {},
   "source": [
    "#### This notebook will be used for the final project in the specialization. It will be updated and description will be changed from time to time"
   ]
  },
  {
   "cell_type": "code",
   "execution_count": 1,
   "metadata": {},
   "outputs": [],
   "source": [
    "import pandas as pd\n",
    "import numpy as np"
   ]
  },
  {
   "cell_type": "code",
   "execution_count": 2,
   "metadata": {},
   "outputs": [
    {
     "name": "stdout",
     "output_type": "stream",
     "text": [
      "Hello Capstone Project Course!\n"
     ]
    }
   ],
   "source": [
    "print(\"Hello Capstone Project Course!\")"
   ]
  },
  {
   "cell_type": "code",
   "execution_count": 3,
   "metadata": {},
   "outputs": [
    {
     "name": "stdout",
     "output_type": "stream",
     "text": [
      "Collecting package metadata: ...working... done\n",
      "Solving environment: ...working... done\n",
      "\n",
      "# All requested packages already installed.\n",
      "\n",
      "Collecting package metadata: ...working... done\n",
      "Solving environment: ...working... done\n",
      "\n",
      "## Package Plan ##\n",
      "\n",
      "  environment location: C:\\ProgramData\\Anaconda3\n",
      "\n",
      "  added / updated specs:\n",
      "    - geopy\n",
      "\n",
      "\n",
      "The following packages will be UPDATED:\n",
      "\n",
      "  geopy                                         1.19.0-py_0 --> 1.20.0-py_0\n",
      "\n",
      "\n",
      "Preparing transaction: ...working... done\n",
      "Verifying transaction: ...working... done\n",
      "Executing transaction: ...working... done\n"
     ]
    }
   ],
   "source": [
    "import requests\n",
    "from bs4 import BeautifulSoup\n",
    "import csv\n",
    "import json\n",
    "import xml\n",
    "import pandas as pd\n",
    "import numpy as np\n",
    "\n",
    "!conda install -c conda-forge folium=0.5.0 --yes\n",
    "import folium\n",
    "from folium import plugins\n",
    "\n",
    "import json\n",
    "from pprint import pprint\n",
    "\n",
    "!conda install -c conda-forge geopy --yes \n",
    "from geopy.geocoders import Nominatim # module to convert an address into latitude and longitude values\n",
    "\n",
    "# libraries for displaying images\n",
    "from IPython.display import Image \n",
    "from IPython.core.display import HTML \n",
    "\n",
    "# Matplotlib and associated plotting modules\n",
    "import matplotlib.cm as cm\n",
    "import matplotlib.colors as colors\n",
    "\n",
    "# import k-means from clustering stage\n",
    "from sklearn.cluster import KMeans\n",
    "\n",
    "import pandas as pd # library for data analsysis\n",
    "pd.set_option('display.max_columns', None)\n",
    "pd.set_option('display.max_rows', None)\n",
    "\n",
    "import json # library to handle JSON files\n",
    "import requests # library to handle requests\n",
    "from pandas.io.json import json_normalize # tranform JSON file into a pandas dataframe"
   ]
  },
  {
   "cell_type": "code",
   "execution_count": null,
   "metadata": {},
   "outputs": [],
   "source": [
    "url = requests.get('https://en.wikipedia.org/wiki/Arrondissements_of_Paris#Arrondissements').text"
   ]
  },
  {
   "cell_type": "markdown",
   "metadata": {},
   "source": [
    "#### Apply Beautiful Soup to make Soup of the URL, then apply Prettify to view the nested tags and look for the tag that contains the table with arrondissement information"
   ]
  },
  {
   "cell_type": "code",
   "execution_count": null,
   "metadata": {},
   "outputs": [],
   "source": [
    "soup = BeautifulSoup(url, 'lxml')\n",
    "print(soup.prettify())"
   ]
  },
  {
   "cell_type": "code",
   "execution_count": null,
   "metadata": {},
   "outputs": [],
   "source": [
    "arrond_table = soup.find(\"table\", class_ = 'wikitable sortable')\n",
    "arrond_table_rows = arrond_table.find_all('tr')"
   ]
  },
  {
   "cell_type": "markdown",
   "metadata": {},
   "source": [
    "##### Extract the columns Arrondissement, Name, Area, Population, Density"
   ]
  },
  {
   "cell_type": "code",
   "execution_count": null,
   "metadata": {},
   "outputs": [],
   "source": [
    "information = []\n",
    "for row in arrond_table_rows:\n",
    "    info = row.text.split('\\n')[1:-1]\n",
    "    information.append(info)\n",
    "\n",
    "del information[0][1::2] # There are extra column headers \"\" that we don't need, so delete them    \n",
    "\n",
    "information"
   ]
  },
  {
   "cell_type": "markdown",
   "metadata": {},
   "source": [
    "#### Turn above information into a Pandas dataframe"
   ]
  },
  {
   "cell_type": "code",
   "execution_count": null,
   "metadata": {},
   "outputs": [],
   "source": [
    "arrond_df = pd.DataFrame(information[1:], columns=information[0])\n",
    "# where information[1:] contains each row of neighborhoods\n",
    "# and columns = information[0] gives the column names\n",
    "\n",
    "arrond_df.head(25)"
   ]
  },
  {
   "cell_type": "code",
   "execution_count": null,
   "metadata": {},
   "outputs": [],
   "source": [
    "# Add a column with just the Arrondissement numbers\n",
    "\n",
    "arrond_number = ['1st', '2nd', '3rd', '4th', '5th', '6th', '7th', '8th', '9th','10th',\n",
    "                '11th', '12th', '13th', '14th', '15th', '16th', '17th', '18th', '19th', '20th']\n",
    "\n",
    "Arr = pd.DataFrame({'Arrondissement': arrond_number})\n",
    "\n",
    "arrond_df = pd.concat([arrond_df, Arr], axis = 1)\n",
    "\n",
    "arrond_df.head()"
   ]
  },
  {
   "cell_type": "code",
   "execution_count": null,
   "metadata": {},
   "outputs": [],
   "source": [
    "arrond_df.dtypes"
   ]
  },
  {
   "cell_type": "markdown",
   "metadata": {},
   "source": [
    "#### Here's a dataframe of the top Paris architectural and historical landmarks I've gathered manually from the Architecture Digest website"
   ]
  },
  {
   "cell_type": "code",
   "execution_count": null,
   "metadata": {},
   "outputs": [],
   "source": [
    "landmarks = ['Cathédrale Notre-Dame de Paris', 'Arc de Triomphe', 'Centre Pompidou',\n",
    "             'Sacré-Cœur Basilica', 'Eiffel Tower',\n",
    "             'The Louvre', 'La Grande Arche', 'Les Invalides', 'Fondation Louis Vuitton',\n",
    "             'Panthéon', 'Picasso Museum', 'Cinémathèque Française',\n",
    "             'Opéra Garnier', 'The Grand Palais', 'Hôtel de Ville',\n",
    "             'Fondation Cartier', 'Jeu de Paume', 'Jardin des Plantes',\n",
    "             'Fondation Jerôme Seydoux-Pathé', 'Île de la Cité',\n",
    "             'The Palais de Tokyo', 'Philharmonie de Paris', 'Musée d’Orsay',\n",
    "             'Palais du Luxembourg', 'Montmartre', 'Champs-Élysées',\n",
    "             'Palace of Versailles', 'Tuileries Garden', 'Moulin Rouge',\n",
    "             'Disneyland Paris', 'Place de la Concorde', 'Catacombs of Paris',\n",
    "             'Rodin Museum', 'Île de la Cité', 'Orangerie Museum', 'Pont des Arts',\n",
    "             'Île Saint-Louis', 'Place Vendôme', 'Saint-Jacques Tower', 'La Conciergerie',\n",
    "            ]\n",
    "\n",
    "landmarks_df = pd.DataFrame({'Landmark': landmarks})"
   ]
  },
  {
   "cell_type": "markdown",
   "metadata": {},
   "source": [
    "#### I will find each landmark's latitude and longitude information using the Nominatim package."
   ]
  },
  {
   "cell_type": "code",
   "execution_count": null,
   "metadata": {},
   "outputs": [],
   "source": [
    "\n",
    "def landmark_loc(list_of_landmarks):\n",
    "    for place in list_of_landmarks:\n",
    "        address = (place)\n",
    "        geolocator = Nominatim(user_agent=\"Paris_explorer\")\n",
    "        location = geolocator.geocode(address)\n",
    "        latitude = location.latitude\n",
    "        longitude = location.longitude\n",
    "        print('{''}, {}, {},'.format(place,latitude,longitude))\n",
    "\n",
    "landmark_loc(landmarks)"
   ]
  },
  {
   "cell_type": "markdown",
   "metadata": {},
   "source": [
    "#### I will turn the above information into a dataframe (need to find a way to do this more efficiently)"
   ]
  },
  {
   "cell_type": "code",
   "execution_count": null,
   "metadata": {},
   "outputs": [],
   "source": [
    "landmarks_loc = ['Cathédrale Notre-Dame de Paris', 48.85293695, 2.35005149954546,\n",
    "'Arc de Triomphe', 48.8737791, 2.29503722603767,\n",
    "'Centre Pompidou', 48.8605918, 2.35247431766534,\n",
    "'Sacré-Cœur Basilica', 48.88680575, 2.34301534488351,\n",
    "'Eiffel Tower', 48.8582602, 2.29449905431968,\n",
    "'The Louvre', 48.8611473, 2.33802768704666,\n",
    "'La Grande Arche', 48.8930151, 2.2376206,\n",
    "'Les Invalides', 48.8570374, 2.3118779,\n",
    "'Fondation Louis Vuitton', 48.87665005, 2.26333809580246,\n",
    "'Panthéon', 48.8454189, 2.35258442491778,\n",
    "'Picasso Museum', 41.3851066, 2.18120508674285,\n",
    "'Cinémathèque Française', 48.8369987, 2.38263520273537,\n",
    "'Opéra Garnier', 48.87203085, 2.3317901855896,\n",
    "'The Grand Palais', 48.86616135, 2.31222295966943,\n",
    "'Hôtel de Ville', 43.9492974, 4.80526012041732,\n",
    "'Fondation Cartier', 48.8373182, 2.33193184219906,\n",
    "'Jeu de Paume', 48.8658156, 2.32408776132074,\n",
    "'Jardin des Plantes', 48.8432224, 2.35950895709484,\n",
    "'Fondation Jerôme Seydoux-Pathé', 48.8334765, 2.35490681339522,\n",
    "'Île de la Cité', 48.85470505, 2.3474846899114,\n",
    "'The Palais de Tokyo', 48.8639905, 2.29652151313114,\n",
    "'Philharmonie de Paris', 48.89192125, 2.39413864295307,\n",
    "'Musée d’Orsay', 48.85991785, 2.32658283469656,\n",
    "'Palais du Luxembourg', 48.84852845, 2.33683647732996,\n",
    "'Montmartre', 46.8021347, -0.7198939,\n",
    "'Champs-Élysées', 48.8707573, 2.3053312,\n",
    "'Palace of Versailles', 48.80442525, 2.1202852709926,\n",
    "'Tuileries Garden', 48.86366215, 2.32683861305756,\n",
    "'Moulin Rouge', 48.8840787, 2.3324082,\n",
    "'Disneyland Paris', 48.8711359, 2.77612651196751,\n",
    "'Place de la Concorde', 29.9002052, -90.0095146,\n",
    "'Catacombs of Paris', 48.833964, 2.3324924,\n",
    "'Rodin Museum', 39.9619295, -75.1739508,\n",
    "'Île de la Cité', 48.85470505, 2.3474846899114,\n",
    "'Orangerie Museum', 48.8637655, 2.32266020780693,\n",
    "'Pont des Arts', 48.8578114, 2.3372459,\n",
    "'Île Saint-Louis', 48.85161305, 2.35673414953666,\n",
    "'Place Vendôme', 48.8674634, 2.32942811682519,\n",
    "'Saint-Jacques Tower', 48.8580032, 2.34892171290132,\n",
    "'La Conciergerie', 48.8559492, 2.3460263]\n",
    "\n",
    "landmarks_df = pd.DataFrame(np.array(landmarks_loc).reshape(40, 3), columns = [\"Landmark\",\"Latitude\",\"Longitude\"])\n",
    "\n",
    "# Change the latitude and longitude to a float\n",
    "landmarks_df['Latitude'] = landmarks_df.Latitude.astype(float)\n",
    "landmarks_df['Longitude'] = landmarks_df.Longitude.astype(float)"
   ]
  },
  {
   "cell_type": "markdown",
   "metadata": {},
   "source": [
    "#### Get latitude/longitude for each arrondissement"
   ]
  },
  {
   "cell_type": "code",
   "execution_count": null,
   "metadata": {},
   "outputs": [],
   "source": [
    "\n",
    "# turn numbered arrondissements into a list\n",
    "arrond_list = arrond_df['Arrondissement'].unique()\n",
    "arrond_list\n",
    "\n",
    "def landmark_loc(list_of_arronds):\n",
    "    for place in list_of_arronds:\n",
    "        address = (place + ' Arrondissement')\n",
    "        geolocator = Nominatim(user_agent=\"arrond_explorer\")\n",
    "        location = geolocator.geocode(address)\n",
    "        latitude = location.latitude\n",
    "        longitude = location.longitude\n",
    "        print('{}, {}, {},'.format(place,latitude,longitude))\n",
    "\n",
    "landmark_loc(arrond_list)"
   ]
  },
  {
   "cell_type": "code",
   "execution_count": null,
   "metadata": {},
   "outputs": [],
   "source": [
    "# turn numbered arrondissements into a list\n",
    "arrond_list = arrond_df['Arrondissement'].unique()\n",
    "arrond_list\n",
    "\n",
    "def landmark_loc(list_of_arronds):\n",
    "    LL = []\n",
    "    for place in list_of_arronds:\n",
    "        address = (place + ' Arrondissement')\n",
    "        geolocator = Nominatim(user_agent=\"arrond_explorer\")\n",
    "        location = geolocator.geocode(address)\n",
    "        latitude = location.latitude\n",
    "        longitude = location.longitude\n",
    "        LL.append(place)\n",
    "        LL.append(latitude)\n",
    "        LL.append(longitude)\n",
    "    print(LL)\n",
    "\n",
    "\n",
    "LL = landmark_loc(arrond_list)"
   ]
  },
  {
   "cell_type": "code",
   "execution_count": null,
   "metadata": {},
   "outputs": [],
   "source": [
    "\n",
    "# not sure why the LL above couldn't be reshaped, so copied them below to insert into a dataframe converter\n",
    "\n",
    "LL = ['1st', 48.8646144, 2.334396, '2nd', 48.868743, 2.341688, '3rd', 48.864212, 2.360936, \n",
    "      '4th', 48.8562021, 2.3556193, '5th', 48.8460591, 2.3445228, '6th', 48.8504333, 2.3329507, \n",
    "      '7th', 48.8570281, 2.3201953, '8th', 48.8773158, 2.3172611, '9th', 48.876019, 2.339962, \n",
    "      '10th', 48.876106, 2.35991, '11th', 48.858416, 2.379703, '12th', 48.8396154, 2.3957517, \n",
    "      '13th', 48.8323973, 2.3555829, '14th', 48.8330589, 2.3269591, '15th', 48.8413705, 2.3003827, \n",
    "      '16th', 48.8631709, 2.2757648, '17th', 48.8842239, 2.3223639, '18th', 48.8900117, 2.3464668, \n",
    "      '19th', 48.889343, 2.38436, '20th', 48.865042, 2.398929]"
   ]
  },
  {
   "cell_type": "code",
   "execution_count": null,
   "metadata": {},
   "outputs": [],
   "source": [
    "arrond_LL = pd.DataFrame(np.array(LL).reshape(20,3), columns = [\"Arrondissement\",\"Latitude\",\"Longitude\"])\n",
    "\n",
    "# Change the latitude and longitude to a float\n",
    "arrond_LL['Latitude'] = arrond_LL.Latitude.astype(float)\n",
    "arrond_LL['Longitude'] = arrond_LL.Longitude.astype(float)\n",
    "\n",
    "arrond_LL"
   ]
  },
  {
   "cell_type": "code",
   "execution_count": null,
   "metadata": {},
   "outputs": [],
   "source": [
    "Next, I will upload the GEO JSON file of Paris and attempt to create a choroplath map"
   ]
  },
  {
   "cell_type": "code",
   "execution_count": null,
   "metadata": {},
   "outputs": [],
   "source": [
    "with open('arrondissements_osm_paris.geojson') as file:    \n",
    "    paris = json.load(file)\n",
    "    \n",
    "paris"
   ]
  },
  {
   "cell_type": "markdown",
   "metadata": {},
   "source": [
    "#### Exploration of the data"
   ]
  },
  {
   "cell_type": "code",
   "execution_count": null,
   "metadata": {},
   "outputs": [],
   "source": [
    "address = ('Paris, France')\n",
    "geolocator = Nominatim(user_agent=\"Paris_explorer\")\n",
    "location = geolocator.geocode(address)\n",
    "latitude = location.latitude\n",
    "longitude = location.longitude\n",
    "print('{''}, {}, {},'.format(address,latitude,longitude))"
   ]
  },
  {
   "cell_type": "code",
   "execution_count": null,
   "metadata": {},
   "outputs": [],
   "source": [
    "paris_lat = 48.8566101\n",
    "paris_long = 2.3514992\n",
    "\n",
    "paris_map = folium.Map(location=[paris_lat, paris_long], zoom_start = 12)\n",
    "paris_map"
   ]
  },
  {
   "cell_type": "markdown",
   "metadata": {},
   "source": [
    "#### Generate a map that show the borders of the arrondissement and labels"
   ]
  },
  {
   "cell_type": "code",
   "execution_count": null,
   "metadata": {},
   "outputs": [],
   "source": [
    "arronds_map = folium.Map(location = [paris_lat, paris_long], zoom_start = 14)\n",
    "\n",
    "arronds_map.choropleth(\n",
    "    geo_data=paris,\n",
    "    key_on='feature.properties.nom',\n",
    "    fill_color='PuBu', \n",
    "    fill_opacity=0.1, \n",
    "    line_opacity=0.8,\n",
    ")\n",
    "\n",
    "#add neighborhood markers to the Paris map\n",
    "for lat, long, arrond in zip(arrond_LL['Latitude'], arrond_LL['Longitude'], \n",
    "                                 arrond_LL['Arrondissement']):\n",
    "    label = '{}'.format(arrond)\n",
    "    label = folium.Popup(label, parse_html=True)\n",
    "    folium.CircleMarker(\n",
    "        [lat, long],\n",
    "        radius = 7, \n",
    "        popup = label,\n",
    "        color = 'red',\n",
    "        fill = True,\n",
    "        fill_color = 'blue',\n",
    "        fill_opacity = 0.7,\n",
    "        parse_html = False).add_to(arronds_map)\n",
    "        \n",
    "# display map\n",
    "arronds_map"
   ]
  },
  {
   "cell_type": "markdown",
   "metadata": {},
   "source": [
    "#### Generate choropleth map using the geo json file and the population information"
   ]
  },
  {
   "cell_type": "code",
   "execution_count": null,
   "metadata": {},
   "outputs": [],
   "source": [
    "# make new list so that \"nom\" in geojson matches the arrond in the data\n",
    "\n",
    "arrond_new = ['1er Arrondissement', '2e Arrondissement','3e Arrondissement',\n",
    "             '4e Arrondissement', '5e Arrondissement', '6e Arrondissement', \n",
    "             '7e Arrondissement', '8e Arrondissement','9e Arrondissement',\n",
    "             '10e Arrondissement', '11e Arrondissement', '12e Arrondissement', \n",
    "             '13e Arrondissement', '14e Arrondissement', '15e Arrondissement',\n",
    "             '16e Arrondissement', '17e Arrondissement', '18e Arrondissement', \n",
    "             '19e Arrondissement', '20e Arrondissement']\n",
    "\n",
    "# this is the population list. Was going to take this from the dataframe, but it had commas and was an object.o\n",
    "population_2005 = [17700, 20700, 35100, 28600, 60600,\n",
    "45200,55400,38700,58500,88800,152500,138300,181300,134700,\n",
    "232400,149500,160300,188700,187200,191800]\n",
    "\n",
    "\n",
    "pop_2005 = pd.DataFrame({'Arrondissement': arrond_new, 'Population': population_2005})"
   ]
  },
  {
   "cell_type": "markdown",
   "metadata": {},
   "source": [
    "#### Here is a choropleth map of Paris, where darker shades signify a higher Parisan population"
   ]
  },
  {
   "cell_type": "code",
   "execution_count": null,
   "metadata": {},
   "outputs": [],
   "source": [
    "Paris_map = folium.Map(location = [paris_lat, paris_long], zoom_start = 14)\n",
    "\n",
    "Paris_map.choropleth(\n",
    "    geo_data=paris,\n",
    "    data=pop_2005,\n",
    "    columns=['Arrondissement', 'Population'],\n",
    "    key_on='feature.properties.nom',\n",
    "    fill_color='Reds', \n",
    "    fill_opacity=0.5, \n",
    "    line_opacity=0.2,\n",
    "    legend_name='Population by Arrondissement in Paris 2005'\n",
    ")\n",
    "\n",
    "\n",
    "# display map\n",
    "Paris_map"
   ]
  },
  {
   "cell_type": "markdown",
   "metadata": {},
   "source": [
    "#### Map of Parisian arrondissement (labeled) along with population information"
   ]
  },
  {
   "cell_type": "code",
   "execution_count": null,
   "metadata": {},
   "outputs": [],
   "source": [
    "paris_map_v2 = folium.Map(location = [paris_lat, paris_long], zoom_start = 12)\n",
    "\n",
    "paris_map_v2.choropleth(\n",
    "    geo_data=paris,\n",
    "    data=pop_2005,\n",
    "    columns=['Arrondissement', 'Population'],\n",
    "    key_on='feature.properties.nom',\n",
    "    fill_color='PuBu', \n",
    "    fill_opacity=0.5, \n",
    "    line_opacity=0.2,\n",
    "    legend_name='Population by Arrondissement in Paris 2005'\n",
    ")\n",
    "\n",
    "#add neighborhood markers to the Paris map\n",
    "for lat, long, arrond in zip(arrond_LL['Latitude'], arrond_LL['Longitude'], \n",
    "                                 arrond_LL['Arrondissement']):\n",
    "    label = '{}'.format(arrond)\n",
    "    label = folium.Popup(label, parse_html=True)\n",
    "    folium.CircleMarker(\n",
    "        [lat, long],\n",
    "        radius = 7, \n",
    "        popup = label,\n",
    "        color = 'red',\n",
    "        fill = True,\n",
    "        fill_color = 'blue',\n",
    "        fill_opacity = 0.7,\n",
    "        parse_html = False).add_to(paris_map_v2)\n",
    "        \n",
    "\n",
    "# display map\n",
    "paris_map_v2"
   ]
  },
  {
   "cell_type": "markdown",
   "metadata": {},
   "source": [
    "#### Another option for a choroplath map with arrond long/lat points"
   ]
  },
  {
   "cell_type": "code",
   "execution_count": null,
   "metadata": {},
   "outputs": [],
   "source": [
    "from folium import IFrame\n",
    "\n",
    "paris_map_v3 = folium.Map(location = [paris_lat, paris_long], zoom_start = 12)\n",
    "\n",
    "paris_map_v3.choropleth(\n",
    "    geo_data=paris,\n",
    "    data=pop_2005,\n",
    "    columns=['Arrondissement', 'Population'],\n",
    "    key_on='feature.properties.nom',\n",
    "    fill_color='PuBu', \n",
    "    fill_opacity=0.5, \n",
    "    line_opacity=0.2,\n",
    "    legend_name='Population by Arrondissement in Paris 2005'\n",
    ")\n",
    "\n",
    "#add neighborhood markers to the Paris map\n",
    "for lat, long, arrond in zip(arrond_LL['Latitude'], arrond_LL['Longitude'], \n",
    "                                 arrond_LL['Arrondissement']):\n",
    "    label = '{}'.format(arrond)\n",
    "    iframe = folium.IFrame(label, width=700, height=450)\n",
    "    label = folium.Popup(iframe, parse_html=True)\n",
    "    folium.CircleMarker(\n",
    "        [lat, long],\n",
    "        radius = 7, \n",
    "        color = 'red',\n",
    "        fill = True,\n",
    "        fill_color = 'blue',\n",
    "        fill_opacity = 0.7,\n",
    "        parse_html = False).add_to(paris_map_v3)\n",
    "        \n",
    "\n",
    "# display map\n",
    "paris_map_v3"
   ]
  },
  {
   "cell_type": "markdown",
   "metadata": {},
   "source": [
    "#### Map of Paris with markers of top tourists landmarks"
   ]
  },
  {
   "cell_type": "code",
   "execution_count": null,
   "metadata": {},
   "outputs": [],
   "source": [
    "\n",
    "# create a map of Paris\n",
    "map_landmarks = folium.Map(location = [paris_lat, paris_long], zoom_start = 10)\n",
    "\n",
    "map_landmarks.choropleth(\n",
    "    geo_data=paris,\n",
    "    key_on='feature.properties.nom',\n",
    "    fill_color='PuBu', \n",
    "    fill_opacity=0.1, \n",
    "    line_opacity=0.8,\n",
    ")\n",
    "\n",
    "#add neighborhood markers to the Paris map\n",
    "for lat, long, landmark in zip(landmarks_df['Latitude'], landmarks_df['Longitude'], \n",
    "                                 landmarks_df['Landmark']):\n",
    "    label = '{}'.format(landmark)\n",
    "    label = folium.Popup(label, parse_html=True)\n",
    "    folium.CircleMarker(\n",
    "        [lat, long],\n",
    "        radius = 7, \n",
    "        popup = label,\n",
    "        color = 'red',\n",
    "        fill = True,\n",
    "        fill_color = 'blue',\n",
    "        fill_opacity = 0.7,\n",
    "        parse_html = False).add_to(map_landmarks)\n",
    "        \n",
    "map_landmarks"
   ]
  },
  {
   "cell_type": "markdown",
   "metadata": {},
   "source": [
    "#### Map of Paris with landmarks and arrondissements"
   ]
  },
  {
   "cell_type": "code",
   "execution_count": null,
   "metadata": {},
   "outputs": [],
   "source": [
    "# create a map of Paris\n",
    "map_landmarks2 = folium.Map(location = [paris_lat, paris_long], zoom_start = 10)\n",
    "\n",
    "map_landmarks2.choropleth(\n",
    "    geo_data=paris,\n",
    "    data=pop_2005,\n",
    "    columns=['Arrondissement', 'Population'],\n",
    "    key_on='feature.properties.nom',\n",
    "    fill_color='PuBu', \n",
    "    fill_opacity=0.1, \n",
    "    line_opacity=0.5,\n",
    ")\n",
    "\n",
    "#add landmarks markers to the Paris map\n",
    "for lat, long, landmark in zip(landmarks_df['Latitude'], landmarks_df['Longitude'], \n",
    "                                 landmarks_df['Landmark']):\n",
    "    label = '{}'.format(landmark)\n",
    "    label = folium.Popup(label, parse_html=True)\n",
    "    folium.CircleMarker(\n",
    "        [lat, long],\n",
    "        radius = 7, \n",
    "        popup = label,\n",
    "        color = 'red',\n",
    "        fill = True,\n",
    "        fill_color = 'blue',\n",
    "        fill_opacity = 0.7,\n",
    "        parse_html = False).add_to(map_landmarks2)\n",
    "    \n",
    "#add neighborhood markers to the Paris map\n",
    "for lat, long, arrond in zip(arrond_LL['Latitude'], arrond_LL['Longitude'], \n",
    "                                 arrond_LL['Arrondissement']):\n",
    "    label = '{}'.format(arrond)\n",
    "    label = folium.Popup(label, parse_html=True)\n",
    "    folium.CircleMarker(\n",
    "        [lat, long],\n",
    "        radius = 5, \n",
    "        popup = label,\n",
    "        color = 'white',\n",
    "        fill = True,\n",
    "        fill_color = 'green',\n",
    "        fill_opacity = 0.5,\n",
    "        parse_html = False).add_to(map_landmarks2)\n",
    "        \n",
    "map_landmarks2"
   ]
  },
  {
   "cell_type": "markdown",
   "metadata": {},
   "source": [
    "#### Let's bring in the Foursquare data"
   ]
  },
  {
   "cell_type": "code",
   "execution_count": null,
   "metadata": {},
   "outputs": [],
   "source": [
    "CLIENT_ID = 'EYOIMD2CUHSNE3YB3XQJI2UNLSL4M35Q12YTC2DVRCGSKGAD' # your Foursquare ID\n",
    "CLIENT_SECRET = 'DFMF3LXGTQ5NNG1W25RIJPRZIQSAZUABHRJKTOGDLUOLUQWH' # your Foursquare Secret\n",
    "VERSION = '20180605' # Foursquare API version"
   ]
  },
  {
   "cell_type": "markdown",
   "metadata": {},
   "source": [
    "#### Now, let's get the top 250 venues from each of the arrondissement with the most landmarks, the 1st, 4th, 7th, and 8th. From online research, other vistor favorites are the 5th, 18th, 6th, and 3rd arrondissements."
   ]
  },
  {
   "cell_type": "code",
   "execution_count": null,
   "metadata": {},
   "outputs": [],
   "source": [
    "# Make dataframe of the most popular arrondissement\n",
    "\n",
    "\n",
    "popular_arrond = arrond_LL[arrond_LL['Arrondissement'].isin(\n",
    "    ['1st', '3rd', '4th', '5th', '6th', '7th', '8th', '18th'])]\n",
    "\n",
    "popular_arrond"
   ]
  },
  {
   "cell_type": "code",
   "execution_count": null,
   "metadata": {},
   "outputs": [],
   "source": [
    "# Example call of 1st arrondissement\n",
    "\n",
    "arrond_1_lat = arrond_LL.iloc[0,1]\n",
    "\n",
    "arrond_1_long = arrond_LL.iloc[0,2]\n",
    "\n",
    "LIMIT = 250\n",
    "\n",
    "radius = 2000\n",
    "\n",
    "\n",
    "\n",
    "url1 = 'https://api.foursquare.com/v2/venues/explore?client_id={}&client_secret={}&ll={},{}&v={}&radius={}&limit={}'.format(\n",
    "    CLIENT_ID, \n",
    "    CLIENT_SECRET, \n",
    "    arrond_1_lat, \n",
    "    arrond_1_long, \n",
    "    VERSION, \n",
    "    radius, \n",
    "    LIMIT)\n",
    "\n",
    "url1"
   ]
  },
  {
   "cell_type": "markdown",
   "metadata": {},
   "source": [
    "#### Send the GET request and examine the results"
   ]
  },
  {
   "cell_type": "code",
   "execution_count": null,
   "metadata": {},
   "outputs": [],
   "source": [
    "results1 = requests.get(url1).json()\n",
    "results1"
   ]
  },
  {
   "cell_type": "code",
   "execution_count": null,
   "metadata": {},
   "outputs": [],
   "source": []
  }
 ],
 "metadata": {
  "kernelspec": {
   "display_name": "Python 3",
   "language": "python",
   "name": "python3"
  },
  "language_info": {
   "codemirror_mode": {
    "name": "ipython",
    "version": 3
   },
   "file_extension": ".py",
   "mimetype": "text/x-python",
   "name": "python",
   "nbconvert_exporter": "python",
   "pygments_lexer": "ipython3",
   "version": "3.7.1"
  }
 },
 "nbformat": 4,
 "nbformat_minor": 2
}
